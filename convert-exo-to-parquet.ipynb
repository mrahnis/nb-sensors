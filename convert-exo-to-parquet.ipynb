{
 "cells": [
  {
   "cell_type": "markdown",
   "id": "c9bc49a3-0949-4db6-a54a-33da062a4188",
   "metadata": {},
   "source": [
    "# Convert EXOsonde CSV files to parquet"
   ]
  },
  {
   "cell_type": "code",
   "execution_count": 6,
   "id": "71ca70fe-d7a9-4ed0-a181-c67d330e30a0",
   "metadata": {},
   "outputs": [],
   "source": [
    "import os\n",
    "import re\n",
    "from datetime import datetime\n",
    "from pprint import pprint\n",
    "import pytz\n",
    "import numpy as np\n",
    "import pandas as pd"
   ]
  },
  {
   "cell_type": "code",
   "execution_count": 7,
   "id": "5dc95e92-c9a0-4fa4-871f-75ef2d313c1f",
   "metadata": {},
   "outputs": [],
   "source": [
    "srcdir = 'data/src/exo'\n",
    "dstdir = 'data/dst'"
   ]
  },
  {
   "cell_type": "code",
   "execution_count": 8,
   "id": "44701008-e3be-4d59-bde3-46ccdb243a3a",
   "metadata": {},
   "outputs": [
    {
     "name": "stdout",
     "output_type": "stream",
     "text": [
      "Found 1 files:\n",
      "['LCCD_Little_Conestoga_Sonde_Data_May_2023_-_July_202.csv']\n"
     ]
    }
   ],
   "source": [
    "# ** sonde data ***\n",
    "ext = '.csv'\n",
    "\n",
    "files = [file for file in os.listdir(srcdir) if file.endswith(ext)]\n",
    "print(f'Found {len(files)} files:')\n",
    "pprint(files)"
   ]
  },
  {
   "cell_type": "code",
   "execution_count": 9,
   "id": "0a2ac9b3-3851-4137-a5d6-1a76ef1083c8",
   "metadata": {},
   "outputs": [],
   "source": [
    "col_labels = {\n",
    "    'DO'   : 'Dissolved Oxygen (mg/l)',\n",
    "    'TEMP' : 'Water Temperature (C)',\n",
    "    'SC'   : 'Specific Conductivity (uS/cm)',\n",
    "    'pH'   : 'pH',\n",
    "    'TDS'  : 'Total Dissolved Solids (mg/l)'\n",
    "}"
   ]
  },
  {
   "cell_type": "code",
   "execution_count": 10,
   "id": "bcb160c2-1e17-4a6f-adac-73ccec937495",
   "metadata": {},
   "outputs": [
    {
     "name": "stderr",
     "output_type": "stream",
     "text": [
      "C:\\Users\\miker\\AppData\\Local\\Temp\\ipykernel_38676\\1449222969.py:27: FutureWarning: DataFrame.interpolate with object dtype is deprecated and will raise in a future version. Call obj.infer_objects(copy=False) before interpolating instead.\n",
      "  df = df.resample('1min').first().interpolate().resample(to_freq).asfreq()\n"
     ]
    },
    {
     "name": "stdout",
     "output_type": "stream",
     "text": [
      "Writing: LCCD_Little_Conestoga_Sonde_Data_May_2023_-_July_202\n"
     ]
    }
   ],
   "source": [
    "'''\n",
    "for ix, row in raw.iterrows():\n",
    "    # using a regex split\n",
    "    (month, day, year, hour, minute) = tuple(map(int, re.split('/| |:', row.TimeStamp)))\n",
    "    dt = datetime(year, month, day, hour, minute)\n",
    "    print(f'timestamp: {dt}, {type(dt)}')\n",
    "'''\n",
    "\n",
    "\n",
    "def parse_timestamp(ds):\n",
    "    (month, day, year, hour, minute) = tuple(map(int, re.split('/| |:', ds)))\n",
    "    dt = datetime(year, month, day, hour, minute)\n",
    "    #print(f'timestamp: {dt}, {type(dt)}')\n",
    "    \n",
    "    return dt\n",
    "\n",
    "def read_exo(fn, srcdir='.', to_freq='15min'):\n",
    "    \n",
    "    df = pd.read_csv(f'{srcdir}/{fn}', comment='#', parse_dates=False)\n",
    "    df['DateTimeLocal'] = df.apply(lambda x:parse_timestamp(x.TimeStamp), axis=1)\n",
    "    df['DateTimeEST'] = df['DateTimeLocal'].dt.tz_localize('EST')\n",
    "\n",
    "    df.set_index(df['DateTimeEST'], inplace=True)\n",
    "    df.index.rename('DateTime', inplace=True)\n",
    "\n",
    "    in_freq = pd.infer_freq(df.index)\n",
    "    df = df.resample('1min').first().interpolate().resample(to_freq).asfreq()\n",
    "    df.index = df.index.tz_convert(pytz.utc)\n",
    "\n",
    "    return df\n",
    "\n",
    "\n",
    "for file in files:\n",
    "    df = read_exo(file, srcdir=srcdir, to_freq='15min')\n",
    "    basename = os.path.splitext(file)[0]\n",
    "    print(f'Writing: {basename}')\n",
    "\n",
    "    df.to_parquet(f'{dstdir}/{basename}.parquet', index=True)\n"
   ]
  },
  {
   "cell_type": "code",
   "execution_count": 11,
   "id": "4ef3084b-0a92-4e5d-a0ad-3e7125bee0ab",
   "metadata": {},
   "outputs": [
    {
     "data": {
      "text/html": [
       "<div>\n",
       "<style scoped>\n",
       "    .dataframe tbody tr th:only-of-type {\n",
       "        vertical-align: middle;\n",
       "    }\n",
       "\n",
       "    .dataframe tbody tr th {\n",
       "        vertical-align: top;\n",
       "    }\n",
       "\n",
       "    .dataframe thead th {\n",
       "        text-align: right;\n",
       "    }\n",
       "</style>\n",
       "<table border=\"1\" class=\"dataframe\">\n",
       "  <thead>\n",
       "    <tr style=\"text-align: right;\">\n",
       "      <th></th>\n",
       "      <th>TimeStamp</th>\n",
       "      <th>Dissolved Oxygen (mg/l)</th>\n",
       "      <th>Water Temperature (C)</th>\n",
       "      <th>Specific Conductivity (uS/cm)</th>\n",
       "      <th>pH</th>\n",
       "      <th>Total Dissolved Solids (mg/l)</th>\n",
       "      <th>DateTimeLocal</th>\n",
       "      <th>DateTimeEST</th>\n",
       "    </tr>\n",
       "    <tr>\n",
       "      <th>DateTime</th>\n",
       "      <th></th>\n",
       "      <th></th>\n",
       "      <th></th>\n",
       "      <th></th>\n",
       "      <th></th>\n",
       "      <th></th>\n",
       "      <th></th>\n",
       "      <th></th>\n",
       "    </tr>\n",
       "  </thead>\n",
       "  <tbody>\n",
       "    <tr>\n",
       "      <th>2023-05-01 23:15:00+00:00</th>\n",
       "      <td>NaN</td>\n",
       "      <td>NaN</td>\n",
       "      <td>NaN</td>\n",
       "      <td>NaN</td>\n",
       "      <td>NaN</td>\n",
       "      <td>NaN</td>\n",
       "      <td>NaT</td>\n",
       "      <td>NaT</td>\n",
       "    </tr>\n",
       "    <tr>\n",
       "      <th>2023-05-01 23:30:00+00:00</th>\n",
       "      <td>None</td>\n",
       "      <td>10.354000</td>\n",
       "      <td>13.504600</td>\n",
       "      <td>NaN</td>\n",
       "      <td>8.023333</td>\n",
       "      <td>NaN</td>\n",
       "      <td>2023-05-01 18:30:00</td>\n",
       "      <td>2023-05-01 18:30:00-05:00</td>\n",
       "    </tr>\n",
       "    <tr>\n",
       "      <th>2023-05-01 23:45:00+00:00</th>\n",
       "      <td>None</td>\n",
       "      <td>10.479333</td>\n",
       "      <td>13.806267</td>\n",
       "      <td>635.993333</td>\n",
       "      <td>8.017333</td>\n",
       "      <td>413.466667</td>\n",
       "      <td>2023-05-01 18:45:00</td>\n",
       "      <td>2023-05-01 18:45:00-05:00</td>\n",
       "    </tr>\n",
       "    <tr>\n",
       "      <th>2023-05-02 00:00:00+00:00</th>\n",
       "      <td>None</td>\n",
       "      <td>10.475333</td>\n",
       "      <td>13.855600</td>\n",
       "      <td>637.013333</td>\n",
       "      <td>8.034667</td>\n",
       "      <td>414.000000</td>\n",
       "      <td>2023-05-01 19:00:00</td>\n",
       "      <td>2023-05-01 19:00:00-05:00</td>\n",
       "    </tr>\n",
       "    <tr>\n",
       "      <th>2023-05-02 00:15:00+00:00</th>\n",
       "      <td>None</td>\n",
       "      <td>10.455333</td>\n",
       "      <td>13.917733</td>\n",
       "      <td>638.520000</td>\n",
       "      <td>8.040000</td>\n",
       "      <td>414.733333</td>\n",
       "      <td>2023-05-01 19:15:00</td>\n",
       "      <td>2023-05-01 19:15:00-05:00</td>\n",
       "    </tr>\n",
       "  </tbody>\n",
       "</table>\n",
       "</div>"
      ],
      "text/plain": [
       "                          TimeStamp  Dissolved Oxygen (mg/l)  \\\n",
       "DateTime                                                       \n",
       "2023-05-01 23:15:00+00:00       NaN                      NaN   \n",
       "2023-05-01 23:30:00+00:00      None                10.354000   \n",
       "2023-05-01 23:45:00+00:00      None                10.479333   \n",
       "2023-05-02 00:00:00+00:00      None                10.475333   \n",
       "2023-05-02 00:15:00+00:00      None                10.455333   \n",
       "\n",
       "                           Water Temperature (C)  \\\n",
       "DateTime                                           \n",
       "2023-05-01 23:15:00+00:00                    NaN   \n",
       "2023-05-01 23:30:00+00:00              13.504600   \n",
       "2023-05-01 23:45:00+00:00              13.806267   \n",
       "2023-05-02 00:00:00+00:00              13.855600   \n",
       "2023-05-02 00:15:00+00:00              13.917733   \n",
       "\n",
       "                           Specific Conductivity (uS/cm)        pH  \\\n",
       "DateTime                                                             \n",
       "2023-05-01 23:15:00+00:00                            NaN       NaN   \n",
       "2023-05-01 23:30:00+00:00                            NaN  8.023333   \n",
       "2023-05-01 23:45:00+00:00                     635.993333  8.017333   \n",
       "2023-05-02 00:00:00+00:00                     637.013333  8.034667   \n",
       "2023-05-02 00:15:00+00:00                     638.520000  8.040000   \n",
       "\n",
       "                           Total Dissolved Solids (mg/l)       DateTimeLocal  \\\n",
       "DateTime                                                                       \n",
       "2023-05-01 23:15:00+00:00                            NaN                 NaT   \n",
       "2023-05-01 23:30:00+00:00                            NaN 2023-05-01 18:30:00   \n",
       "2023-05-01 23:45:00+00:00                     413.466667 2023-05-01 18:45:00   \n",
       "2023-05-02 00:00:00+00:00                     414.000000 2023-05-01 19:00:00   \n",
       "2023-05-02 00:15:00+00:00                     414.733333 2023-05-01 19:15:00   \n",
       "\n",
       "                                        DateTimeEST  \n",
       "DateTime                                             \n",
       "2023-05-01 23:15:00+00:00                       NaT  \n",
       "2023-05-01 23:30:00+00:00 2023-05-01 18:30:00-05:00  \n",
       "2023-05-01 23:45:00+00:00 2023-05-01 18:45:00-05:00  \n",
       "2023-05-02 00:00:00+00:00 2023-05-01 19:00:00-05:00  \n",
       "2023-05-02 00:15:00+00:00 2023-05-01 19:15:00-05:00  "
      ]
     },
     "execution_count": 11,
     "metadata": {},
     "output_type": "execute_result"
    }
   ],
   "source": [
    "df.head()"
   ]
  },
  {
   "cell_type": "code",
   "execution_count": null,
   "id": "6f36b1a6-ff57-46c8-b3b9-3d4f0c9c23c9",
   "metadata": {},
   "outputs": [],
   "source": [
    "# if no duplicates go ahead and set the frequency\n",
    "wx_df.set_index(wx_df['DateTime'], inplace=True)\n",
    "\n",
    "# leave the frequency alone for now...\n",
    "#in_freq = pd.infer_freq(wx_df.index)\n",
    "\n",
    "#wx_df = wx_df.asfreq(freq=in_freq)\n",
    "wx_df = wx_df.asfreq(freq='15min')\n",
    "\n",
    "# maybe resample later\n",
    "# wx_df = wx_df.resample('1min').first().interpolate().resample(to_freq).asfreq()\n",
    "# wx_df = wx_df.resample('15min').first()\n",
    "\n",
    "# update the index to UTC\n",
    "wx_df.index = wx_df.index.tz_convert(pytz.utc)"
   ]
  },
  {
   "cell_type": "code",
   "execution_count": null,
   "id": "09110d7f-e066-4562-bad5-113da6bd1f0f",
   "metadata": {},
   "outputs": [],
   "source": [
    "wx_df.index"
   ]
  },
  {
   "cell_type": "code",
   "execution_count": null,
   "id": "880fcb26-8f6a-408a-820f-8ff22a8e4133",
   "metadata": {},
   "outputs": [],
   "source": [
    "# write to parquet file\n",
    "print(f'Writing: wx_data.parquet')\n",
    "wx_df.to_parquet(f'{dstdir}/wx_data.parquet', index=True)"
   ]
  },
  {
   "cell_type": "code",
   "execution_count": null,
   "id": "6add6c0b-fd1a-4663-9400-0b9762e9956e",
   "metadata": {},
   "outputs": [],
   "source": []
  }
 ],
 "metadata": {
  "kernelspec": {
   "display_name": "Python 3 (ipykernel)",
   "language": "python",
   "name": "python3"
  },
  "language_info": {
   "codemirror_mode": {
    "name": "ipython",
    "version": 3
   },
   "file_extension": ".py",
   "mimetype": "text/x-python",
   "name": "python",
   "nbconvert_exporter": "python",
   "pygments_lexer": "ipython3",
   "version": "3.12.2"
  }
 },
 "nbformat": 4,
 "nbformat_minor": 5
}
