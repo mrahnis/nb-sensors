{
 "cells": [
  {
   "cell_type": "markdown",
   "id": "f70af4e5-4394-4dba-838e-c75858fb2766",
   "metadata": {},
   "source": [
    "# Convert HOBO sensor Excel files to parquet"
   ]
  },
  {
   "cell_type": "code",
   "execution_count": 1,
   "id": "3d4cb8fc-137e-47d0-b3bf-52993502565c",
   "metadata": {},
   "outputs": [],
   "source": [
    "import pytz\n",
    "import numpy as np\n",
    "import pandas as pd\n",
    "import matplotlib.pyplot as plt"
   ]
  },
  {
   "cell_type": "code",
   "execution_count": 2,
   "id": "3b4bf34d-24bf-42d7-b0a9-e47e82d21b17",
   "metadata": {},
   "outputs": [],
   "source": [
    "hobo_files = ['21852517 2024-07-22 10_25_20 EDT (Data EDT).xlsx',\n",
    "              'FM-Temp-21695007-CB 2024-07-22 10_20_59 EDT (Data EDT).xlsx',\n",
    "              'FM-Temp-21852518-LB 2024-07-22 10_18_03 EDT (Data EDT).xlsx',\n",
    "              'FM-Temp-21852519 2024-07-22 10_21_36 EDT (Data EDT).xlsx',\n",
    "              'FM-Temp-21852521-FD 2024-07-22 10_22_54 EDT (Data EDT).xlsx',\n",
    "              'FM-Temp-21852524-CT 2024-07-22 10_26_09 EDT (Data EDT).xlsx'\n",
    "             ]"
   ]
  },
  {
   "cell_type": "code",
   "execution_count": 4,
   "id": "41973158-090d-4e79-89e5-1dbbb6fe3857",
   "metadata": {},
   "outputs": [],
   "source": [
    "srcdir = 'data/src/hobo'\n",
    "dstdir = 'data/dst'"
   ]
  },
  {
   "cell_type": "code",
   "execution_count": 5,
   "id": "ba6b6d7a-f20c-4e16-98bc-a8edd23213f3",
   "metadata": {
    "scrolled": true
   },
   "outputs": [],
   "source": [
    "def read_hobo(fn, srcdir='.'):\n",
    "    \n",
    "    df = pd.read_excel(f'{srcdir}/{fn}', parse_dates=True, date_format='%Y-%m-%d %H:%M:%S', names=['DateTimeEDT','Temp'])\n",
    "\n",
    "    # Localize to EDT as indicated in header\n",
    "    df['DateTimeEDT'] = df['DateTimeEDT'].dt.tz_localize('America/New_York')\n",
    "\n",
    "    df.set_index(df['DateTimeEDT'], inplace=True)\n",
    "    df.index.rename('DateTime', inplace=True)\n",
    "    df = df.asfreq(freq='15min')\n",
    "    # df = df.resample('15min').first()\n",
    "\n",
    "    # update the index to UTC\n",
    "    df.index = df.index.tz_convert(pytz.utc)\n",
    "\n",
    "    return df"
   ]
  },
  {
   "cell_type": "code",
   "execution_count": 6,
   "id": "b33dff41-f9ef-40b5-af42-e71559e267c6",
   "metadata": {},
   "outputs": [
    {
     "name": "stdout",
     "output_type": "stream",
     "text": [
      "21852517 2024-07-22 10_25_20 UTC (Data UTC)\n",
      "FM-Temp-21695007-CB 2024-07-22 10_20_59 UTC (Data UTC)\n",
      "FM-Temp-21852518-LB 2024-07-22 10_18_03 UTC (Data UTC)\n",
      "FM-Temp-21852519 2024-07-22 10_21_36 UTC (Data UTC)\n",
      "FM-Temp-21852521-FD 2024-07-22 10_22_54 UTC (Data UTC)\n",
      "FM-Temp-21852524-CT 2024-07-22 10_26_09 UTC (Data UTC)\n"
     ]
    }
   ],
   "source": [
    "import os\n",
    "\n",
    "for file in hobo_files:\n",
    "    df = read_hobo(file, srcdir=srcdir)\n",
    "    basename = os.path.splitext(file)[0].replace('EDT', 'UTC')\n",
    "    print(basename)\n",
    "    df.to_parquet(f'{dstdir}/{basename}.parquet', index=True)"
   ]
  },
  {
   "cell_type": "code",
   "execution_count": null,
   "id": "7a9612e1-2f8a-4901-a2da-b8a15d973fbf",
   "metadata": {},
   "outputs": [],
   "source": [
    "df.index"
   ]
  },
  {
   "cell_type": "code",
   "execution_count": null,
   "id": "e2588849-cd2f-4b4b-bdfd-3cc6ca5cf37b",
   "metadata": {},
   "outputs": [],
   "source": []
  }
 ],
 "metadata": {
  "kernelspec": {
   "display_name": "Python 3 (ipykernel)",
   "language": "python",
   "name": "python3"
  },
  "language_info": {
   "codemirror_mode": {
    "name": "ipython",
    "version": 3
   },
   "file_extension": ".py",
   "mimetype": "text/x-python",
   "name": "python",
   "nbconvert_exporter": "python",
   "pygments_lexer": "ipython3",
   "version": "3.12.2"
  }
 },
 "nbformat": 4,
 "nbformat_minor": 5
}
