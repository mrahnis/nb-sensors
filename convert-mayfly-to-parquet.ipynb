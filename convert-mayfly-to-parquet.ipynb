{
 "cells": [
  {
   "cell_type": "markdown",
   "id": "281d50d8-6050-4939-a903-0ef91707a348",
   "metadata": {},
   "source": [
    "# Convert Mayfly CSV files to parquet"
   ]
  },
  {
   "cell_type": "code",
   "execution_count": 1,
   "id": "3a2784b2-0e61-4b56-9823-866adf2f1a9c",
   "metadata": {},
   "outputs": [],
   "source": [
    "import datetime\n",
    "import numpy as np\n",
    "import pandas as pd\n",
    "import matplotlib.pyplot as plt"
   ]
  },
  {
   "cell_type": "code",
   "execution_count": 2,
   "id": "55c16ef8-c3e1-4445-ac65-24b63cf2de7f",
   "metadata": {},
   "outputs": [],
   "source": [
    "# https://monitormywatershed.org/sites/GMI_CTD8/\n",
    "# etc...\n",
    "\n",
    "stations = ['GMI_CTD1', 'GMI_CTD3', 'GMI_CTD5', 'GMI_CTD6', 'GMI_CTD7', 'GMI_CTD8']"
   ]
  },
  {
   "cell_type": "code",
   "execution_count": 3,
   "id": "b9d7f42d-0a4d-4af8-8018-f663d1c83555",
   "metadata": {},
   "outputs": [],
   "source": [
    "files = ['GMI_CTD1_Maxim_DS3231_Temp_7254.csv',\n",
    "'GMI_CTD1_Meter_Hydros21_Cond_7251.csv',\n",
    "'GMI_CTD1_Meter_Hydros21_Depth_7252.csv',\n",
    "'GMI_CTD1_Meter_Hydros21_Temp_7253.csv',\n",
    "'GMI_CTD1_Sensirion_SHT40_Humidity_7256.csv',\n",
    "'GMI_CTD3_Maxim_DS3231_Temp_7416.csv',\n",
    "'GMI_CTD3_Meter_Hydros21_Cond_7413.csv',\n",
    "'GMI_CTD3_Meter_Hydros21_Depth_7414.csv',\n",
    "'GMI_CTD3_Meter_Hydros21_Temp_7415.csv',\n",
    "'GMI_CTD3_Sensirion_SHT40_Humidity_7418.csv',\n",
    "'GMI_CTD5_Maxim_DS3231_Temp_7976.csv',\n",
    "'GMI_CTD5_Meter_Hydros21_Cond_7973.csv',\n",
    "'GMI_CTD5_Meter_Hydros21_Depth_7974.csv',\n",
    "'GMI_CTD5_Meter_Hydros21_Temp_7975.csv',\n",
    "'GMI_CTD5_Sensirion_SHT40_Humidity_7978.csv',\n",
    "'GMI_CTD6_Maxim_DS3231_Temp_7987.csv',\n",
    "'GMI_CTD6_Meter_Hydros21_Cond_7984.csv',\n",
    "'GMI_CTD6_Meter_Hydros21_Depth_7985.csv',\n",
    "'GMI_CTD6_Meter_Hydros21_Temp_7986.csv',\n",
    "'GMI_CTD6_Sensirion_SHT40_Humidity_7993.csv',\n",
    "'GMI_CTD7_Maxim_DS3231_Temp_7998.csv',\n",
    "'GMI_CTD7_Meter_Hydros21_Cond_7995.csv',\n",
    "'GMI_CTD7_Meter_Hydros21_Depth_7996.csv',\n",
    "'GMI_CTD7_Meter_Hydros21_Temp_7997.csv',\n",
    "'GMI_CTD7_Sensirion_SHT40_Humidity_8000.csv',\n",
    "'GMI_CTD8_Maxim_DS3231_Temp_8005.csv',\n",
    "'GMI_CTD8_Meter_Hydros21_Cond_8002.csv',\n",
    "'GMI_CTD8_Meter_Hydros21_Depth_8003.csv',\n",
    "'GMI_CTD8_Meter_Hydros21_Temp_8004.csv',\n",
    "'GMI_CTD8_Sensirion_SHT40_Humidity_8007.csv']"
   ]
  },
  {
   "cell_type": "code",
   "execution_count": 4,
   "id": "c2e7314a-735a-4c94-8535-f669277d0455",
   "metadata": {},
   "outputs": [],
   "source": [
    "srcdir = 'data/src/mayfly'\n",
    "dstdir = 'data/dst'"
   ]
  },
  {
   "cell_type": "code",
   "execution_count": 5,
   "id": "7c98a25c-3da1-48fa-ab8d-a4288742c6c8",
   "metadata": {
    "scrolled": true
   },
   "outputs": [],
   "source": [
    "def get_text_header(fn):\n",
    "    skiprows = 0\n",
    "    text = ''\n",
    "    columns = None\n",
    "    \n",
    "    with open(fn) as f:\n",
    "        line = f.readline()\n",
    "        while line[0] == '#' or line.startswith('DateTime') == False:\n",
    "            line = f.readline()\n",
    "            if line.startswith('DateTime'):\n",
    "                columns = line.rstrip().strip().split(',')\n",
    "            else:\n",
    "                text += line\n",
    "            skiprows += 1\n",
    "\n",
    "    return skiprows, text, columns"
   ]
  },
  {
   "cell_type": "code",
   "execution_count": 6,
   "id": "834655d1-77c7-49c2-ac9e-32bf676453f0",
   "metadata": {},
   "outputs": [],
   "source": [
    "def read_mayfly(fn, skiprows = 0):\n",
    "    df = pd.read_csv(fn, skiprows=skiprows, parse_dates=True, na_values=-9999.0)\n",
    "\n",
    "    df.rename(columns={'DateTime': '_DateTimeLocal_', 'DateTimeUTC': '_DateTimeUTC_'}, inplace=True)\n",
    "\n",
    "    # assuming this is truly UTC\n",
    "    df['DateTimeUTC'] = pd.to_datetime(df['_DateTimeUTC_'], utc=True)\n",
    "\n",
    "    # apply the indicated offset to get local time\n",
    "    df['DateTimeLocal'] = pd.to_datetime(df['_DateTimeLocal_'])\n",
    "    df['DateTimeLocal'] = df.apply(\n",
    "        lambda x:x['DateTimeLocal'].tz_localize(\n",
    "            datetime.timezone(\n",
    "                datetime.timedelta(hours=x['TimeOffset'])\n",
    "            )\n",
    "        ), axis=1)\n",
    "\n",
    "    return df"
   ]
  },
  {
   "cell_type": "code",
   "execution_count": 7,
   "id": "ea50e9c6-781b-496e-8f99-9d23650d8ce8",
   "metadata": {},
   "outputs": [],
   "source": [
    "def concat_mayfly(files, srcdir='.'):\n",
    "\n",
    "    df_list = []\n",
    "\n",
    "    for file in files:\n",
    "        path = f'{srcdir}/{file}'\n",
    "        skiprows, text, columns = get_text_header(path)\n",
    "\n",
    "        for column in columns:\n",
    "            if column in file:\n",
    "                break\n",
    "        print(f'    Reading series: {column} from {path}')\n",
    "        df = read_mayfly(path, skiprows = skiprows)\n",
    "        df.set_index(df['DateTimeUTC'], inplace=True)\n",
    "        df.index.rename('DateTime', inplace=True)\n",
    "        df_list.append(df[column])\n",
    "\n",
    "    df = pd.concat(df_list, axis=1)\n",
    "    df = df.asfreq(freq='5min')\n",
    "    # df = df.resample('5min').first()\n",
    "    \n",
    "    return df"
   ]
  },
  {
   "cell_type": "code",
   "execution_count": 8,
   "id": "2f5ea46c-3d7b-48ed-b41c-8d6f84f5d0ce",
   "metadata": {},
   "outputs": [
    {
     "name": "stdout",
     "output_type": "stream",
     "text": [
      "Processing GMI_CTD1\n",
      "    Reading series: Maxim_DS3231_Temp from data/src/mayfly/GMI_CTD1_Maxim_DS3231_Temp_7254.csv\n",
      "    Reading series: Meter_Hydros21_Cond from data/src/mayfly/GMI_CTD1_Meter_Hydros21_Cond_7251.csv\n",
      "    Reading series: Meter_Hydros21_Depth from data/src/mayfly/GMI_CTD1_Meter_Hydros21_Depth_7252.csv\n",
      "    Reading series: Meter_Hydros21_Temp from data/src/mayfly/GMI_CTD1_Meter_Hydros21_Temp_7253.csv\n",
      "    Reading series: Sensirion_SHT40_Humidity from data/src/mayfly/GMI_CTD1_Sensirion_SHT40_Humidity_7256.csv\n",
      "Processing GMI_CTD3\n",
      "    Reading series: Maxim_DS3231_Temp from data/src/mayfly/GMI_CTD3_Maxim_DS3231_Temp_7416.csv\n",
      "    Reading series: Meter_Hydros21_Cond from data/src/mayfly/GMI_CTD3_Meter_Hydros21_Cond_7413.csv\n",
      "    Reading series: Meter_Hydros21_Depth from data/src/mayfly/GMI_CTD3_Meter_Hydros21_Depth_7414.csv\n",
      "    Reading series: Meter_Hydros21_Temp from data/src/mayfly/GMI_CTD3_Meter_Hydros21_Temp_7415.csv\n",
      "    Reading series: Sensirion_SHT40_Humidity from data/src/mayfly/GMI_CTD3_Sensirion_SHT40_Humidity_7418.csv\n",
      "Processing GMI_CTD5\n",
      "    Reading series: Maxim_DS3231_Temp from data/src/mayfly/GMI_CTD5_Maxim_DS3231_Temp_7976.csv\n",
      "    Reading series: Meter_Hydros21_Cond from data/src/mayfly/GMI_CTD5_Meter_Hydros21_Cond_7973.csv\n",
      "    Reading series: Meter_Hydros21_Depth from data/src/mayfly/GMI_CTD5_Meter_Hydros21_Depth_7974.csv\n",
      "    Reading series: Meter_Hydros21_Temp from data/src/mayfly/GMI_CTD5_Meter_Hydros21_Temp_7975.csv\n",
      "    Reading series: Sensirion_SHT40_Humidity from data/src/mayfly/GMI_CTD5_Sensirion_SHT40_Humidity_7978.csv\n",
      "Processing GMI_CTD6\n",
      "    Reading series: Maxim_DS3231_Temp from data/src/mayfly/GMI_CTD6_Maxim_DS3231_Temp_7987.csv\n",
      "    Reading series: Meter_Hydros21_Cond from data/src/mayfly/GMI_CTD6_Meter_Hydros21_Cond_7984.csv\n",
      "    Reading series: Meter_Hydros21_Depth from data/src/mayfly/GMI_CTD6_Meter_Hydros21_Depth_7985.csv\n",
      "    Reading series: Meter_Hydros21_Temp from data/src/mayfly/GMI_CTD6_Meter_Hydros21_Temp_7986.csv\n",
      "    Reading series: Sensirion_SHT40_Humidity from data/src/mayfly/GMI_CTD6_Sensirion_SHT40_Humidity_7993.csv\n",
      "Processing GMI_CTD7\n",
      "    Reading series: Maxim_DS3231_Temp from data/src/mayfly/GMI_CTD7_Maxim_DS3231_Temp_7998.csv\n",
      "    Reading series: Meter_Hydros21_Cond from data/src/mayfly/GMI_CTD7_Meter_Hydros21_Cond_7995.csv\n",
      "    Reading series: Meter_Hydros21_Depth from data/src/mayfly/GMI_CTD7_Meter_Hydros21_Depth_7996.csv\n",
      "    Reading series: Meter_Hydros21_Temp from data/src/mayfly/GMI_CTD7_Meter_Hydros21_Temp_7997.csv\n",
      "    Reading series: Sensirion_SHT40_Humidity from data/src/mayfly/GMI_CTD7_Sensirion_SHT40_Humidity_8000.csv\n",
      "Processing GMI_CTD8\n",
      "    Reading series: Maxim_DS3231_Temp from data/src/mayfly/GMI_CTD8_Maxim_DS3231_Temp_8005.csv\n",
      "    Reading series: Meter_Hydros21_Cond from data/src/mayfly/GMI_CTD8_Meter_Hydros21_Cond_8002.csv\n",
      "    Reading series: Meter_Hydros21_Depth from data/src/mayfly/GMI_CTD8_Meter_Hydros21_Depth_8003.csv\n",
      "    Reading series: Meter_Hydros21_Temp from data/src/mayfly/GMI_CTD8_Meter_Hydros21_Temp_8004.csv\n",
      "    Reading series: Sensirion_SHT40_Humidity from data/src/mayfly/GMI_CTD8_Sensirion_SHT40_Humidity_8007.csv\n"
     ]
    }
   ],
   "source": [
    "for station in stations:\n",
    "\n",
    "    station_files = [file for file in files if station in file]\n",
    "    print(f'Processing {station}')\n",
    "\n",
    "    station_df = concat_mayfly(station_files, srcdir=srcdir)\n",
    "    station_df.to_parquet(f'{dstdir}/mayfly_{station}.parquet', index=True)"
   ]
  },
  {
   "cell_type": "code",
   "execution_count": 9,
   "id": "ebe8b6f1-267a-4faf-8cac-17a0066dc924",
   "metadata": {},
   "outputs": [
    {
     "data": {
      "text/html": [
       "<div>\n",
       "<style scoped>\n",
       "    .dataframe tbody tr th:only-of-type {\n",
       "        vertical-align: middle;\n",
       "    }\n",
       "\n",
       "    .dataframe tbody tr th {\n",
       "        vertical-align: top;\n",
       "    }\n",
       "\n",
       "    .dataframe thead th {\n",
       "        text-align: right;\n",
       "    }\n",
       "</style>\n",
       "<table border=\"1\" class=\"dataframe\">\n",
       "  <thead>\n",
       "    <tr style=\"text-align: right;\">\n",
       "      <th></th>\n",
       "      <th>Maxim_DS3231_Temp</th>\n",
       "      <th>Meter_Hydros21_Cond</th>\n",
       "      <th>Meter_Hydros21_Depth</th>\n",
       "      <th>Meter_Hydros21_Temp</th>\n",
       "      <th>Sensirion_SHT40_Humidity</th>\n",
       "    </tr>\n",
       "    <tr>\n",
       "      <th>DateTime</th>\n",
       "      <th></th>\n",
       "      <th></th>\n",
       "      <th></th>\n",
       "      <th></th>\n",
       "      <th></th>\n",
       "    </tr>\n",
       "  </thead>\n",
       "  <tbody>\n",
       "    <tr>\n",
       "      <th>2023-07-04 19:55:00+00:00</th>\n",
       "      <td>24.00</td>\n",
       "      <td>NaN</td>\n",
       "      <td>NaN</td>\n",
       "      <td>NaN</td>\n",
       "      <td>49.95</td>\n",
       "    </tr>\n",
       "    <tr>\n",
       "      <th>2023-07-04 20:00:00+00:00</th>\n",
       "      <td>24.00</td>\n",
       "      <td>NaN</td>\n",
       "      <td>NaN</td>\n",
       "      <td>NaN</td>\n",
       "      <td>49.96</td>\n",
       "    </tr>\n",
       "    <tr>\n",
       "      <th>2023-07-04 20:05:00+00:00</th>\n",
       "      <td>23.75</td>\n",
       "      <td>NaN</td>\n",
       "      <td>NaN</td>\n",
       "      <td>NaN</td>\n",
       "      <td>51.38</td>\n",
       "    </tr>\n",
       "    <tr>\n",
       "      <th>2023-07-04 20:10:00+00:00</th>\n",
       "      <td>NaN</td>\n",
       "      <td>NaN</td>\n",
       "      <td>NaN</td>\n",
       "      <td>NaN</td>\n",
       "      <td>NaN</td>\n",
       "    </tr>\n",
       "    <tr>\n",
       "      <th>2023-07-04 20:15:00+00:00</th>\n",
       "      <td>NaN</td>\n",
       "      <td>NaN</td>\n",
       "      <td>NaN</td>\n",
       "      <td>NaN</td>\n",
       "      <td>NaN</td>\n",
       "    </tr>\n",
       "  </tbody>\n",
       "</table>\n",
       "</div>"
      ],
      "text/plain": [
       "                           Maxim_DS3231_Temp  Meter_Hydros21_Cond  \\\n",
       "DateTime                                                            \n",
       "2023-07-04 19:55:00+00:00              24.00                  NaN   \n",
       "2023-07-04 20:00:00+00:00              24.00                  NaN   \n",
       "2023-07-04 20:05:00+00:00              23.75                  NaN   \n",
       "2023-07-04 20:10:00+00:00                NaN                  NaN   \n",
       "2023-07-04 20:15:00+00:00                NaN                  NaN   \n",
       "\n",
       "                           Meter_Hydros21_Depth  Meter_Hydros21_Temp  \\\n",
       "DateTime                                                               \n",
       "2023-07-04 19:55:00+00:00                   NaN                  NaN   \n",
       "2023-07-04 20:00:00+00:00                   NaN                  NaN   \n",
       "2023-07-04 20:05:00+00:00                   NaN                  NaN   \n",
       "2023-07-04 20:10:00+00:00                   NaN                  NaN   \n",
       "2023-07-04 20:15:00+00:00                   NaN                  NaN   \n",
       "\n",
       "                           Sensirion_SHT40_Humidity  \n",
       "DateTime                                             \n",
       "2023-07-04 19:55:00+00:00                     49.95  \n",
       "2023-07-04 20:00:00+00:00                     49.96  \n",
       "2023-07-04 20:05:00+00:00                     51.38  \n",
       "2023-07-04 20:10:00+00:00                       NaN  \n",
       "2023-07-04 20:15:00+00:00                       NaN  "
      ]
     },
     "execution_count": 9,
     "metadata": {},
     "output_type": "execute_result"
    }
   ],
   "source": [
    "station_df.head()"
   ]
  },
  {
   "cell_type": "code",
   "execution_count": 10,
   "id": "b76e20f2-0ccc-43d3-8fd4-0bfe9d6a10ab",
   "metadata": {},
   "outputs": [
    {
     "data": {
      "text/plain": [
       "DatetimeIndex(['2023-07-04 19:55:00+00:00', '2023-07-04 20:00:00+00:00',\n",
       "               '2023-07-04 20:05:00+00:00', '2023-07-04 20:10:00+00:00',\n",
       "               '2023-07-04 20:15:00+00:00', '2023-07-04 20:20:00+00:00',\n",
       "               '2023-07-04 20:25:00+00:00', '2023-07-04 20:30:00+00:00',\n",
       "               '2023-07-04 20:35:00+00:00', '2023-07-04 20:40:00+00:00',\n",
       "               ...\n",
       "               '2024-07-26 08:55:00+00:00', '2024-07-26 09:00:00+00:00',\n",
       "               '2024-07-26 09:05:00+00:00', '2024-07-26 09:10:00+00:00',\n",
       "               '2024-07-26 09:15:00+00:00', '2024-07-26 09:20:00+00:00',\n",
       "               '2024-07-26 09:25:00+00:00', '2024-07-26 09:30:00+00:00',\n",
       "               '2024-07-26 09:35:00+00:00', '2024-07-26 09:40:00+00:00'],\n",
       "              dtype='datetime64[ns, UTC]', name='DateTime', length=111622, freq='5min')"
      ]
     },
     "execution_count": 10,
     "metadata": {},
     "output_type": "execute_result"
    }
   ],
   "source": [
    "station_df.index"
   ]
  },
  {
   "cell_type": "code",
   "execution_count": 11,
   "id": "b3728100-eb84-4d8e-bfc0-1796be3b8504",
   "metadata": {},
   "outputs": [
    {
     "data": {
      "text/plain": [
       "DatetimeIndex(['2023-07-04 19:55:00+00:00', '2023-07-04 20:00:00+00:00',\n",
       "               '2023-07-04 20:05:00+00:00', '2023-07-04 20:10:00+00:00',\n",
       "               '2023-07-04 20:15:00+00:00', '2023-07-04 20:20:00+00:00',\n",
       "               '2023-07-04 20:25:00+00:00', '2023-07-04 20:30:00+00:00',\n",
       "               '2023-07-04 20:35:00+00:00', '2023-07-04 20:40:00+00:00',\n",
       "               ...\n",
       "               '2024-07-26 08:55:00+00:00', '2024-07-26 09:00:00+00:00',\n",
       "               '2024-07-26 09:05:00+00:00', '2024-07-26 09:10:00+00:00',\n",
       "               '2024-07-26 09:15:00+00:00', '2024-07-26 09:20:00+00:00',\n",
       "               '2024-07-26 09:25:00+00:00', '2024-07-26 09:30:00+00:00',\n",
       "               '2024-07-26 09:35:00+00:00', '2024-07-26 09:40:00+00:00'],\n",
       "              dtype='datetime64[ns, UTC]', name='DateTime', length=111622, freq='5min')"
      ]
     },
     "execution_count": 11,
     "metadata": {},
     "output_type": "execute_result"
    }
   ],
   "source": [
    "station_df.index"
   ]
  },
  {
   "cell_type": "code",
   "execution_count": null,
   "id": "9ba91a54-29d4-4f4d-bc14-dd9510438ad1",
   "metadata": {},
   "outputs": [],
   "source": []
  }
 ],
 "metadata": {
  "kernelspec": {
   "display_name": "Python 3 (ipykernel)",
   "language": "python",
   "name": "python3"
  },
  "language_info": {
   "codemirror_mode": {
    "name": "ipython",
    "version": 3
   },
   "file_extension": ".py",
   "mimetype": "text/x-python",
   "name": "python",
   "nbconvert_exporter": "python",
   "pygments_lexer": "ipython3",
   "version": "3.12.2"
  }
 },
 "nbformat": 4,
 "nbformat_minor": 5
}
