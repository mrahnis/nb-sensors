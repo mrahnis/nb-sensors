{
 "cells": [
  {
   "cell_type": "markdown",
   "id": "c9bc49a3-0949-4db6-a54a-33da062a4188",
   "metadata": {},
   "source": [
    "# Convert weather station CSV files to parquet"
   ]
  },
  {
   "cell_type": "code",
   "execution_count": 1,
   "id": "71ca70fe-d7a9-4ed0-a181-c67d330e30a0",
   "metadata": {},
   "outputs": [],
   "source": [
    "import pytz\n",
    "import numpy as np\n",
    "import pandas as pd\n",
    "import matplotlib.pyplot as plt"
   ]
  },
  {
   "cell_type": "code",
   "execution_count": 2,
   "id": "d61446e9-3246-454a-bb79-d2b2b2411bc5",
   "metadata": {},
   "outputs": [],
   "source": [
    "def get_columns(file, nlines):\n",
    "    with open(file) as f:\n",
    "        lines = [f.readline() for _ in range(nlines)]\n",
    "        texts = [[text.strip(' .\\n') for text in line.split('\\t')] for line in lines]\n",
    "        columns = ['_'.join(x).lstrip('_') for x in zip(*texts)]\n",
    "    return columns"
   ]
  },
  {
   "cell_type": "code",
   "execution_count": 3,
   "id": "44701008-e3be-4d59-bde3-46ccdb243a3a",
   "metadata": {},
   "outputs": [],
   "source": [
    "# ** weather data ***\n",
    "\n",
    "files = ['2006.txt','2007.txt','2008.txt','2009.txt','2010.txt',\n",
    "         '2011.txt','2012.txt','2013.txt','2014.txt','2015.txt',\n",
    "         '2016.txt','2017.txt','2018.txt','2019.txt','2020.txt',\n",
    "         'WXdata2021.txt','WXdata2022.txt','WXdata2023.txt',\n",
    "         'WXdata-3-28-24.txt']"
   ]
  },
  {
   "cell_type": "code",
   "execution_count": 4,
   "id": "5dc95e92-c9a0-4fa4-871f-75ef2d313c1f",
   "metadata": {},
   "outputs": [],
   "source": [
    "srcdir = 'data/src/wx'\n",
    "dstdir = 'data/dst'"
   ]
  },
  {
   "cell_type": "code",
   "execution_count": 5,
   "id": "bcb160c2-1e17-4a6f-adac-73ccec937495",
   "metadata": {},
   "outputs": [
    {
     "name": "stdout",
     "output_type": "stream",
     "text": [
      "Loaded: data/src/wx/2006.txt Removing duplicate DateTimes: False\n",
      "Loaded: data/src/wx/2007.txt Removing duplicate DateTimes: False\n",
      "Loaded: data/src/wx/2008.txt Removing duplicate DateTimes: True\n",
      "Loaded: data/src/wx/2009.txt Removing duplicate DateTimes: False\n",
      "Loaded: data/src/wx/2010.txt Removing duplicate DateTimes: False\n",
      "Loaded: data/src/wx/2011.txt Removing duplicate DateTimes: False\n",
      "Loaded: data/src/wx/2012.txt Removing duplicate DateTimes: False\n",
      "Loaded: data/src/wx/2013.txt Removing duplicate DateTimes: False\n",
      "Loaded: data/src/wx/2014.txt Removing duplicate DateTimes: False\n",
      "Loaded: data/src/wx/2015.txt Removing duplicate DateTimes: False\n",
      "Loaded: data/src/wx/2016.txt Removing duplicate DateTimes: False\n",
      "Loaded: data/src/wx/2017.txt Removing duplicate DateTimes: False\n",
      "Loaded: data/src/wx/2018.txt Removing duplicate DateTimes: False\n",
      "Loaded: data/src/wx/2019.txt Removing duplicate DateTimes: False\n",
      "Loaded: data/src/wx/2020.txt Removing duplicate DateTimes: False\n",
      "Loaded: data/src/wx/WXdata2021.txt Removing duplicate DateTimes: False\n",
      "Loaded: data/src/wx/WXdata2022.txt Removing duplicate DateTimes: False\n",
      "Loaded: data/src/wx/WXdata2023.txt Removing duplicate DateTimes: False\n",
      "Loaded: data/src/wx/WXdata-3-28-24.txt Removing duplicate DateTimes: False\n"
     ]
    }
   ],
   "source": [
    "datasets = []\n",
    "\n",
    "for file in files:\n",
    "    \n",
    "    fn = f'{srcdir}/{file}'\n",
    "    \n",
    "    columns = get_columns(fn, 2)\n",
    "    raw = pd.read_csv(fn, skiprows=2, header=0, names=columns, parse_dates=False, na_values=['#VALUE!','---','------'], sep='\\t', low_memory=False)\n",
    "\n",
    "    # Time zone is unknown so we have only naive datetime or assume UTC,\n",
    "    # 2008.txt contains duplicate datetimes at 2008-03-10 and 2008-05-07\n",
    "    raw['Time'] = raw['Time'] + 'm'\n",
    "    raw['DateTimeLocal'] = pd.to_datetime(raw['Date'] + ' ' + raw['Time'], format='%m/%d/%y %I:%M %p', utc=False)\n",
    "    raw['DateTimeLocal'] = raw['DateTimeLocal'].dt.tz_localize('EST')\n",
    "\n",
    "    # will convert the local to UTC in the DateTime later\n",
    "    raw['DateTime'] = raw['DateTimeLocal']\n",
    "    raw.drop(['Date', 'Time'], axis=1, inplace=True)\n",
    "\n",
    "    # check for duplicates in the individual files\n",
    "    print('Loaded:', fn, 'Removing duplicate DateTimes:', raw['DateTimeLocal'].duplicated().any())\n",
    "\n",
    "    # not actually sure which of the duplicates we want\n",
    "    df = raw.loc[~raw['DateTimeLocal'].duplicated(), :]\n",
    "    \n",
    "    datasets.append(df)"
   ]
  },
  {
   "cell_type": "code",
   "execution_count": 6,
   "id": "7a2d9d54-2936-438e-b5e4-20ef3af5ccca",
   "metadata": {},
   "outputs": [
    {
     "data": {
      "text/plain": [
       "(566870, 36)"
      ]
     },
     "execution_count": 6,
     "metadata": {},
     "output_type": "execute_result"
    }
   ],
   "source": [
    "# concatenate the dataframes\n",
    "wx_df = pd.concat(datasets)\n",
    "wx_df.shape"
   ]
  },
  {
   "cell_type": "code",
   "execution_count": 7,
   "id": "929f4493-74da-4dad-b3a4-338910e4be48",
   "metadata": {},
   "outputs": [
    {
     "data": {
      "text/plain": [
       "False"
      ]
     },
     "execution_count": 7,
     "metadata": {},
     "output_type": "execute_result"
    }
   ],
   "source": [
    "# any DateTime duplicates after concatenation?\n",
    "wx_df['DateTime'].duplicated().any()"
   ]
  },
  {
   "cell_type": "code",
   "execution_count": 8,
   "id": "6f36b1a6-ff57-46c8-b3b9-3d4f0c9c23c9",
   "metadata": {},
   "outputs": [],
   "source": [
    "# if no duplicates go ahead and set the frequency\n",
    "wx_df.set_index(wx_df['DateTime'], inplace=True)\n",
    "wx_df = wx_df.asfreq(freq='15min')\n",
    "# wx_df = wx_df.resample('15min').first()\n",
    "\n",
    "# update the index to UTC\n",
    "wx_df.index = wx_df.index.tz_convert(pytz.utc)"
   ]
  },
  {
   "cell_type": "code",
   "execution_count": 9,
   "id": "88184bff-a8b2-46bb-9b84-d1a072034048",
   "metadata": {},
   "outputs": [
    {
     "data": {
      "text/html": [
       "<div>\n",
       "<style scoped>\n",
       "    .dataframe tbody tr th:only-of-type {\n",
       "        vertical-align: middle;\n",
       "    }\n",
       "\n",
       "    .dataframe tbody tr th {\n",
       "        vertical-align: top;\n",
       "    }\n",
       "\n",
       "    .dataframe thead th {\n",
       "        text-align: right;\n",
       "    }\n",
       "</style>\n",
       "<table border=\"1\" class=\"dataframe\">\n",
       "  <thead>\n",
       "    <tr style=\"text-align: right;\">\n",
       "      <th></th>\n",
       "      <th>Temp_Out</th>\n",
       "      <th>Hi_Temp</th>\n",
       "      <th>Low_Temp</th>\n",
       "      <th>Out_Hum</th>\n",
       "      <th>Dew_Pt</th>\n",
       "      <th>Wind_Speed</th>\n",
       "      <th>Wind_Dir</th>\n",
       "      <th>Wind_Run</th>\n",
       "      <th>Hi_Speed</th>\n",
       "      <th>Hi_Dir</th>\n",
       "      <th>...</th>\n",
       "      <th>In_Hum</th>\n",
       "      <th>In_Dew</th>\n",
       "      <th>In_Heat</th>\n",
       "      <th>ET</th>\n",
       "      <th>Wind_Samp</th>\n",
       "      <th>Wind_Tx</th>\n",
       "      <th>ISS_Recept</th>\n",
       "      <th>Arc_Int</th>\n",
       "      <th>DateTimeLocal</th>\n",
       "      <th>DateTime</th>\n",
       "    </tr>\n",
       "    <tr>\n",
       "      <th>DateTime</th>\n",
       "      <th></th>\n",
       "      <th></th>\n",
       "      <th></th>\n",
       "      <th></th>\n",
       "      <th></th>\n",
       "      <th></th>\n",
       "      <th></th>\n",
       "      <th></th>\n",
       "      <th></th>\n",
       "      <th></th>\n",
       "      <th></th>\n",
       "      <th></th>\n",
       "      <th></th>\n",
       "      <th></th>\n",
       "      <th></th>\n",
       "      <th></th>\n",
       "      <th></th>\n",
       "      <th></th>\n",
       "      <th></th>\n",
       "      <th></th>\n",
       "      <th></th>\n",
       "    </tr>\n",
       "  </thead>\n",
       "  <tbody>\n",
       "    <tr>\n",
       "      <th>2006-06-09 01:45:00+00:00</th>\n",
       "      <td>62.9</td>\n",
       "      <td>63.2</td>\n",
       "      <td>62.8</td>\n",
       "      <td>96.0</td>\n",
       "      <td>61.7</td>\n",
       "      <td>0.0</td>\n",
       "      <td>S</td>\n",
       "      <td>0.0</td>\n",
       "      <td>2.0</td>\n",
       "      <td>SSE</td>\n",
       "      <td>...</td>\n",
       "      <td>60.0</td>\n",
       "      <td>59.9</td>\n",
       "      <td>75.1</td>\n",
       "      <td>0.0</td>\n",
       "      <td>345.0</td>\n",
       "      <td>1.0</td>\n",
       "      <td>100.0</td>\n",
       "      <td>15.0</td>\n",
       "      <td>2006-06-08 20:45:00-05:00</td>\n",
       "      <td>2006-06-08 20:45:00-05:00</td>\n",
       "    </tr>\n",
       "    <tr>\n",
       "      <th>2006-06-09 02:00:00+00:00</th>\n",
       "      <td>62.7</td>\n",
       "      <td>62.8</td>\n",
       "      <td>62.7</td>\n",
       "      <td>97.0</td>\n",
       "      <td>61.8</td>\n",
       "      <td>0.0</td>\n",
       "      <td>S</td>\n",
       "      <td>0.0</td>\n",
       "      <td>3.0</td>\n",
       "      <td>S</td>\n",
       "      <td>...</td>\n",
       "      <td>65.0</td>\n",
       "      <td>60.2</td>\n",
       "      <td>73.0</td>\n",
       "      <td>0.0</td>\n",
       "      <td>326.0</td>\n",
       "      <td>1.0</td>\n",
       "      <td>95.3</td>\n",
       "      <td>15.0</td>\n",
       "      <td>2006-06-08 21:00:00-05:00</td>\n",
       "      <td>2006-06-08 21:00:00-05:00</td>\n",
       "    </tr>\n",
       "    <tr>\n",
       "      <th>2006-06-09 02:15:00+00:00</th>\n",
       "      <td>62.5</td>\n",
       "      <td>62.7</td>\n",
       "      <td>62.5</td>\n",
       "      <td>97.0</td>\n",
       "      <td>61.6</td>\n",
       "      <td>0.0</td>\n",
       "      <td>SSE</td>\n",
       "      <td>0.0</td>\n",
       "      <td>2.0</td>\n",
       "      <td>S</td>\n",
       "      <td>...</td>\n",
       "      <td>66.0</td>\n",
       "      <td>59.6</td>\n",
       "      <td>71.8</td>\n",
       "      <td>0.0</td>\n",
       "      <td>345.0</td>\n",
       "      <td>1.0</td>\n",
       "      <td>100.0</td>\n",
       "      <td>15.0</td>\n",
       "      <td>2006-06-08 21:15:00-05:00</td>\n",
       "      <td>2006-06-08 21:15:00-05:00</td>\n",
       "    </tr>\n",
       "    <tr>\n",
       "      <th>2006-06-09 02:30:00+00:00</th>\n",
       "      <td>62.5</td>\n",
       "      <td>62.5</td>\n",
       "      <td>62.5</td>\n",
       "      <td>98.0</td>\n",
       "      <td>61.9</td>\n",
       "      <td>0.0</td>\n",
       "      <td>NaN</td>\n",
       "      <td>0.0</td>\n",
       "      <td>0.0</td>\n",
       "      <td>NaN</td>\n",
       "      <td>...</td>\n",
       "      <td>69.0</td>\n",
       "      <td>60.4</td>\n",
       "      <td>71.4</td>\n",
       "      <td>0.0</td>\n",
       "      <td>337.0</td>\n",
       "      <td>1.0</td>\n",
       "      <td>98.5</td>\n",
       "      <td>15.0</td>\n",
       "      <td>2006-06-08 21:30:00-05:00</td>\n",
       "      <td>2006-06-08 21:30:00-05:00</td>\n",
       "    </tr>\n",
       "    <tr>\n",
       "      <th>2006-06-09 02:45:00+00:00</th>\n",
       "      <td>62.4</td>\n",
       "      <td>62.5</td>\n",
       "      <td>62.4</td>\n",
       "      <td>98.0</td>\n",
       "      <td>61.8</td>\n",
       "      <td>0.0</td>\n",
       "      <td>NaN</td>\n",
       "      <td>0.0</td>\n",
       "      <td>0.0</td>\n",
       "      <td>NaN</td>\n",
       "      <td>...</td>\n",
       "      <td>73.0</td>\n",
       "      <td>61.5</td>\n",
       "      <td>71.2</td>\n",
       "      <td>0.0</td>\n",
       "      <td>348.0</td>\n",
       "      <td>1.0</td>\n",
       "      <td>100.0</td>\n",
       "      <td>15.0</td>\n",
       "      <td>2006-06-08 21:45:00-05:00</td>\n",
       "      <td>2006-06-08 21:45:00-05:00</td>\n",
       "    </tr>\n",
       "  </tbody>\n",
       "</table>\n",
       "<p>5 rows × 36 columns</p>\n",
       "</div>"
      ],
      "text/plain": [
       "                           Temp_Out  Hi_Temp  Low_Temp  Out_Hum  Dew_Pt  \\\n",
       "DateTime                                                                  \n",
       "2006-06-09 01:45:00+00:00      62.9     63.2      62.8     96.0    61.7   \n",
       "2006-06-09 02:00:00+00:00      62.7     62.8      62.7     97.0    61.8   \n",
       "2006-06-09 02:15:00+00:00      62.5     62.7      62.5     97.0    61.6   \n",
       "2006-06-09 02:30:00+00:00      62.5     62.5      62.5     98.0    61.9   \n",
       "2006-06-09 02:45:00+00:00      62.4     62.5      62.4     98.0    61.8   \n",
       "\n",
       "                           Wind_Speed Wind_Dir  Wind_Run  Hi_Speed Hi_Dir  \\\n",
       "DateTime                                                                    \n",
       "2006-06-09 01:45:00+00:00         0.0        S       0.0       2.0    SSE   \n",
       "2006-06-09 02:00:00+00:00         0.0        S       0.0       3.0      S   \n",
       "2006-06-09 02:15:00+00:00         0.0      SSE       0.0       2.0      S   \n",
       "2006-06-09 02:30:00+00:00         0.0      NaN       0.0       0.0    NaN   \n",
       "2006-06-09 02:45:00+00:00         0.0      NaN       0.0       0.0    NaN   \n",
       "\n",
       "                           ...  In_Hum  In_Dew  In_Heat   ET  Wind_Samp  \\\n",
       "DateTime                   ...                                            \n",
       "2006-06-09 01:45:00+00:00  ...    60.0    59.9     75.1  0.0      345.0   \n",
       "2006-06-09 02:00:00+00:00  ...    65.0    60.2     73.0  0.0      326.0   \n",
       "2006-06-09 02:15:00+00:00  ...    66.0    59.6     71.8  0.0      345.0   \n",
       "2006-06-09 02:30:00+00:00  ...    69.0    60.4     71.4  0.0      337.0   \n",
       "2006-06-09 02:45:00+00:00  ...    73.0    61.5     71.2  0.0      348.0   \n",
       "\n",
       "                           Wind_Tx  ISS_Recept  Arc_Int  \\\n",
       "DateTime                                                  \n",
       "2006-06-09 01:45:00+00:00      1.0       100.0     15.0   \n",
       "2006-06-09 02:00:00+00:00      1.0        95.3     15.0   \n",
       "2006-06-09 02:15:00+00:00      1.0       100.0     15.0   \n",
       "2006-06-09 02:30:00+00:00      1.0        98.5     15.0   \n",
       "2006-06-09 02:45:00+00:00      1.0       100.0     15.0   \n",
       "\n",
       "                                      DateTimeLocal                  DateTime  \n",
       "DateTime                                                                       \n",
       "2006-06-09 01:45:00+00:00 2006-06-08 20:45:00-05:00 2006-06-08 20:45:00-05:00  \n",
       "2006-06-09 02:00:00+00:00 2006-06-08 21:00:00-05:00 2006-06-08 21:00:00-05:00  \n",
       "2006-06-09 02:15:00+00:00 2006-06-08 21:15:00-05:00 2006-06-08 21:15:00-05:00  \n",
       "2006-06-09 02:30:00+00:00 2006-06-08 21:30:00-05:00 2006-06-08 21:30:00-05:00  \n",
       "2006-06-09 02:45:00+00:00 2006-06-08 21:45:00-05:00 2006-06-08 21:45:00-05:00  \n",
       "\n",
       "[5 rows x 36 columns]"
      ]
     },
     "execution_count": 9,
     "metadata": {},
     "output_type": "execute_result"
    }
   ],
   "source": [
    "wx_df.head()"
   ]
  },
  {
   "cell_type": "code",
   "execution_count": 10,
   "id": "cc952365-d0db-4ea8-9cc8-5ffc3bb27e87",
   "metadata": {},
   "outputs": [
    {
     "data": {
      "text/plain": [
       "DatetimeIndex(['2006-06-09 01:45:00+00:00', '2006-06-09 02:00:00+00:00',\n",
       "               '2006-06-09 02:15:00+00:00', '2006-06-09 02:30:00+00:00',\n",
       "               '2006-06-09 02:45:00+00:00', '2006-06-09 03:00:00+00:00',\n",
       "               '2006-06-09 03:15:00+00:00', '2006-06-09 03:30:00+00:00',\n",
       "               '2006-06-09 03:45:00+00:00', '2006-06-09 04:00:00+00:00',\n",
       "               ...\n",
       "               '2024-03-28 10:30:00+00:00', '2024-03-28 10:45:00+00:00',\n",
       "               '2024-03-28 11:00:00+00:00', '2024-03-28 11:15:00+00:00',\n",
       "               '2024-03-28 11:30:00+00:00', '2024-03-28 11:45:00+00:00',\n",
       "               '2024-03-28 12:00:00+00:00', '2024-03-28 12:15:00+00:00',\n",
       "               '2024-03-28 12:30:00+00:00', '2024-03-28 12:45:00+00:00'],\n",
       "              dtype='datetime64[ns, UTC]', name='DateTime', length=624237, freq='15min')"
      ]
     },
     "execution_count": 10,
     "metadata": {},
     "output_type": "execute_result"
    }
   ],
   "source": [
    "wx_df.index"
   ]
  },
  {
   "cell_type": "code",
   "execution_count": 11,
   "id": "880fcb26-8f6a-408a-820f-8ff22a8e4133",
   "metadata": {},
   "outputs": [],
   "source": [
    "# write to parquet file\n",
    "wx_df.to_parquet(f'{dstdir}/wx_data.parquet', index=True)"
   ]
  },
  {
   "cell_type": "code",
   "execution_count": null,
   "id": "99ab731d-3d86-4670-a985-c02eb9c19361",
   "metadata": {},
   "outputs": [],
   "source": []
  }
 ],
 "metadata": {
  "kernelspec": {
   "display_name": "Python 3 (ipykernel)",
   "language": "python",
   "name": "python3"
  },
  "language_info": {
   "codemirror_mode": {
    "name": "ipython",
    "version": 3
   },
   "file_extension": ".py",
   "mimetype": "text/x-python",
   "name": "python",
   "nbconvert_exporter": "python",
   "pygments_lexer": "ipython3",
   "version": "3.12.2"
  }
 },
 "nbformat": 4,
 "nbformat_minor": 5
}
